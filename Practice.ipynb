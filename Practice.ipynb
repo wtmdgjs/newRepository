{
  "nbformat": 4,
  "nbformat_minor": 0,
  "metadata": {
    "colab": {
      "name": "Practice.ipynb",
      "provenance": [],
      "collapsed_sections": [
        "oDLy9jLiuUpa",
        "0UZH61V31bmz",
        "498DclFT8nRY"
      ],
      "toc_visible": true,
      "authorship_tag": "ABX9TyPNmdJNqUuDjs0B27X42yTi",
      "include_colab_link": true
    },
    "kernelspec": {
      "name": "python3",
      "display_name": "Python 3"
    },
    "language_info": {
      "name": "python"
    }
  },
  "cells": [
    {
      "cell_type": "markdown",
      "metadata": {
        "id": "view-in-github",
        "colab_type": "text"
      },
      "source": [
        "<a href=\"https://colab.research.google.com/github/wtmdgjs/newRepository/blob/main/Practice.ipynb\" target=\"_parent\"><img src=\"https://colab.research.google.com/assets/colab-badge.svg\" alt=\"Open In Colab\"/></a>"
      ]
    },
    {
      "cell_type": "markdown",
      "metadata": {
        "id": "oDLy9jLiuUpa"
      },
      "source": [
        "# 수업1"
      ]
    },
    {
      "cell_type": "code",
      "metadata": {
        "id": "M0N2SEu7qJhJ",
        "colab": {
          "base_uri": "https://localhost:8080/"
        },
        "outputId": "4bf27d75-1215-4d3d-a7ec-ee3c9cff4c1b"
      },
      "source": [
        "print(\"Hello\")"
      ],
      "execution_count": 101,
      "outputs": [
        {
          "output_type": "stream",
          "name": "stdout",
          "text": [
            "Hello\n"
          ]
        }
      ]
    },
    {
      "cell_type": "code",
      "metadata": {
        "id": "K-E16EPXsR4V",
        "colab": {
          "base_uri": "https://localhost:8080/"
        },
        "outputId": "bb7eab04-6ab6-4ea7-e6f0-3ecc6dddf41e"
      },
      "source": [
        "print(\"덕원고\")"
      ],
      "execution_count": 102,
      "outputs": [
        {
          "output_type": "stream",
          "name": "stdout",
          "text": [
            "덕원고\n"
          ]
        }
      ]
    },
    {
      "cell_type": "code",
      "metadata": {
        "colab": {
          "base_uri": "https://localhost:8080/"
        },
        "id": "IBUATFC2u0uz",
        "outputId": "e98ecec7-d9e3-405e-cfd1-d7ce9238e921"
      },
      "source": [
        "print(3+5)"
      ],
      "execution_count": 103,
      "outputs": [
        {
          "output_type": "stream",
          "name": "stdout",
          "text": [
            "8\n"
          ]
        }
      ]
    },
    {
      "cell_type": "code",
      "metadata": {
        "id": "4_PIbc1YsuT4"
      },
      "source": [
        "text = \"덕원\""
      ],
      "execution_count": 104,
      "outputs": []
    },
    {
      "cell_type": "code",
      "metadata": {
        "id": "G49khbfhs_hK"
      },
      "source": [
        "text = \"시지\""
      ],
      "execution_count": 105,
      "outputs": []
    },
    {
      "cell_type": "code",
      "metadata": {
        "colab": {
          "base_uri": "https://localhost:8080/"
        },
        "id": "bhhrv_cytGmX",
        "outputId": "6da4aece-2d95-4c2e-87d7-7f4084298435"
      },
      "source": [
        "print(text)"
      ],
      "execution_count": 106,
      "outputs": [
        {
          "output_type": "stream",
          "name": "stdout",
          "text": [
            "시지\n"
          ]
        }
      ]
    },
    {
      "cell_type": "code",
      "metadata": {
        "id": "vucvUT_EvcGn",
        "colab": {
          "base_uri": "https://localhost:8080/"
        },
        "outputId": "7ae3edf3-f6a5-49c8-8a15-22e3e124b4d9"
      },
      "source": [
        "#input\n",
        "school = input(\"당신의 학교 이름은?\")\n",
        "print(\"당신의 학교 이름은 \" + school + \"입니다\")"
      ],
      "execution_count": 107,
      "outputs": [
        {
          "output_type": "stream",
          "name": "stdout",
          "text": [
            "당신의 학교 이름은?덕원고\n",
            "당신의 학교 이름은 덕원고입니다\n"
          ]
        }
      ]
    },
    {
      "cell_type": "markdown",
      "metadata": {
        "id": "0UZH61V31bmz"
      },
      "source": [
        "# 수업2"
      ]
    },
    {
      "cell_type": "code",
      "metadata": {
        "colab": {
          "base_uri": "https://localhost:8080/"
        },
        "id": "HWVRwk3H1hax",
        "outputId": "70abb612-ecdd-4f8b-eb48-4617b28bd26b"
      },
      "source": [
        "a = 101\n",
        "b = 99\n",
        "c = 120\n",
        "if a > b:\n",
        "  if c > a:\n",
        "    print(\"최대 IQ: \", c)\n",
        "  else:\n",
        "    print(\"최대 IQ: \", a)\n",
        "else:\n",
        "  if c > b:\n",
        "    print(\"최대 IQ: \", c)\n",
        "  else:\n",
        "    print(\"최대 IQ: \", b)"
      ],
      "execution_count": 108,
      "outputs": [
        {
          "output_type": "stream",
          "name": "stdout",
          "text": [
            "최대 IQ:  120\n"
          ]
        }
      ]
    },
    {
      "cell_type": "code",
      "metadata": {
        "colab": {
          "base_uri": "https://localhost:8080/"
        },
        "id": "Foj1xdT540q8",
        "outputId": "c6629647-8f9d-4da6-a558-0b84124a0293"
      },
      "source": [
        "target_array = [2,1,5,3]\n",
        "max = target_array [0]\n",
        "\n",
        "for element in target_array:\n",
        "  if element > max:\n",
        "    max = element\n",
        "print(\"최대값: \",max)"
      ],
      "execution_count": 109,
      "outputs": [
        {
          "output_type": "stream",
          "name": "stdout",
          "text": [
            "최대값:  5\n"
          ]
        }
      ]
    },
    {
      "cell_type": "markdown",
      "metadata": {
        "id": "498DclFT8nRY"
      },
      "source": [
        "# 수업3"
      ]
    },
    {
      "cell_type": "code",
      "metadata": {
        "colab": {
          "base_uri": "https://localhost:8080/"
        },
        "id": "aVKFsG3d8q2a",
        "outputId": "ffc0f363-3482-44f1-d0bc-5a8ac48b18ab"
      },
      "source": [
        "!pip3 install ColabTurtle"
      ],
      "execution_count": 110,
      "outputs": [
        {
          "output_type": "stream",
          "name": "stdout",
          "text": [
            "Requirement already satisfied: ColabTurtle in /usr/local/lib/python3.7/dist-packages (2.1.0)\n"
          ]
        }
      ]
    },
    {
      "cell_type": "code",
      "metadata": {
        "id": "42jblEwz_lMG",
        "colab": {
          "base_uri": "https://localhost:8080/",
          "height": 520
        },
        "outputId": "398713f6-8e01-4dd1-a284-749c9cab8852"
      },
      "source": [
        "from ColabTurtle.Turtle import*\n",
        "initializeTurtle()\n",
        "color(\"yellow\")\n",
        "for i in range(5):\n",
        "  forward(100)\n",
        "  right(144)"
      ],
      "execution_count": 111,
      "outputs": [
        {
          "output_type": "display_data",
          "data": {
            "text/html": [
              "\n",
              "      <svg width=\"800\" height=\"500\">\n",
              "        <rect width=\"100%\" height=\"100%\" fill=\"black\"/>\n",
              "        <line x1=\"400\" y1=\"250\" x2=\"400.0\" y2=\"150.0\" stroke-linecap=\"round\" style=\"stroke:yellow;stroke-width:4\"/><line x1=\"400.0\" y1=\"150.0\" x2=\"458.779\" y2=\"230.902\" stroke-linecap=\"round\" style=\"stroke:yellow;stroke-width:4\"/><line x1=\"458.779\" y1=\"230.902\" x2=\"363.673\" y2=\"200.0\" stroke-linecap=\"round\" style=\"stroke:yellow;stroke-width:4\"/><line x1=\"363.673\" y1=\"200.0\" x2=\"458.779\" y2=\"169.098\" stroke-linecap=\"round\" style=\"stroke:yellow;stroke-width:4\"/><line x1=\"458.779\" y1=\"169.098\" x2=\"400.0\" y2=\"250.0\" stroke-linecap=\"round\" style=\"stroke:yellow;stroke-width:4\"/>\n",
              "        <g visibility=visible transform=\"rotate(360,400.0,250.0) translate(382.0, 232.0)\">\n",
              "<path style=\" stroke:none;fill-rule:evenodd;fill:yellow;fill-opacity:1;\" d=\"M 18.214844 0.632812 C 16.109375 1.800781 15.011719 4.074219 15.074219 7.132812 L 15.085938 7.652344 L 14.785156 7.496094 C 13.476562 6.824219 11.957031 6.671875 10.40625 7.066406 C 8.46875 7.550781 6.515625 9.15625 4.394531 11.992188 C 3.0625 13.777344 2.679688 14.636719 3.042969 15.027344 L 3.15625 15.152344 L 3.519531 15.152344 C 4.238281 15.152344 4.828125 14.886719 8.1875 13.039062 C 9.386719 12.378906 10.371094 11.839844 10.378906 11.839844 C 10.386719 11.839844 10.355469 11.929688 10.304688 12.035156 C 9.832031 13.09375 9.257812 14.820312 8.96875 16.078125 C 7.914062 20.652344 8.617188 24.53125 11.070312 27.660156 C 11.351562 28.015625 11.363281 27.914062 10.972656 28.382812 C 8.925781 30.84375 7.945312 33.28125 8.238281 35.1875 C 8.289062 35.527344 8.28125 35.523438 8.917969 35.523438 C 10.941406 35.523438 13.074219 34.207031 15.136719 31.6875 C 15.359375 31.417969 15.328125 31.425781 15.5625 31.574219 C 16.292969 32.042969 18.023438 32.964844 18.175781 32.964844 C 18.335938 32.964844 19.941406 32.210938 20.828125 31.71875 C 20.996094 31.625 21.136719 31.554688 21.136719 31.558594 C 21.203125 31.664062 21.898438 32.414062 22.222656 32.730469 C 23.835938 34.300781 25.5625 35.132812 27.582031 35.300781 C 27.90625 35.328125 27.9375 35.308594 28.007812 34.984375 C 28.382812 33.242188 27.625 30.925781 25.863281 28.425781 L 25.542969 27.96875 L 25.699219 27.785156 C 28.945312 23.960938 29.132812 18.699219 26.257812 11.96875 L 26.207031 11.84375 L 27.945312 12.703125 C 31.53125 14.476562 32.316406 14.800781 33.03125 14.800781 C 33.976562 14.800781 33.78125 13.9375 32.472656 12.292969 C 28.519531 7.355469 25.394531 5.925781 21.921875 7.472656 L 21.558594 7.636719 L 21.578125 7.542969 C 21.699219 6.992188 21.761719 5.742188 21.699219 5.164062 C 21.496094 3.296875 20.664062 1.964844 19.003906 0.855469 C 18.480469 0.503906 18.457031 0.5 18.214844 0.632812\"/>\n",
              "</g>\n",
              "      </svg>\n",
              "    "
            ],
            "text/plain": [
              "<IPython.core.display.HTML object>"
            ]
          },
          "metadata": {}
        }
      ]
    },
    {
      "cell_type": "code",
      "metadata": {
        "colab": {
          "base_uri": "https://localhost:8080/",
          "height": 520
        },
        "id": "Yro5KOZMBkxE",
        "outputId": "f31a0638-92b6-47de-dabb-3c52767b3b30"
      },
      "source": [
        "initializeTurtle()\n",
        "forward(100)\n",
        "right(90)\n",
        "forward(100)\n",
        "right(90)\n",
        "forward(100)\n",
        "right(90)\n",
        "forward(100)\n",
        "right(90)"
      ],
      "execution_count": 112,
      "outputs": [
        {
          "output_type": "display_data",
          "data": {
            "text/html": [
              "\n",
              "      <svg width=\"800\" height=\"500\">\n",
              "        <rect width=\"100%\" height=\"100%\" fill=\"black\"/>\n",
              "        <line x1=\"400\" y1=\"250\" x2=\"400.0\" y2=\"150.0\" stroke-linecap=\"round\" style=\"stroke:white;stroke-width:4\"/><line x1=\"400.0\" y1=\"150.0\" x2=\"500.0\" y2=\"150.0\" stroke-linecap=\"round\" style=\"stroke:white;stroke-width:4\"/><line x1=\"500.0\" y1=\"150.0\" x2=\"500.0\" y2=\"250.0\" stroke-linecap=\"round\" style=\"stroke:white;stroke-width:4\"/><line x1=\"500.0\" y1=\"250.0\" x2=\"400.0\" y2=\"250.0\" stroke-linecap=\"round\" style=\"stroke:white;stroke-width:4\"/>\n",
              "        <g visibility=visible transform=\"rotate(360,400.0,250.0) translate(382.0, 232.0)\">\n",
              "<path style=\" stroke:none;fill-rule:evenodd;fill:white;fill-opacity:1;\" d=\"M 18.214844 0.632812 C 16.109375 1.800781 15.011719 4.074219 15.074219 7.132812 L 15.085938 7.652344 L 14.785156 7.496094 C 13.476562 6.824219 11.957031 6.671875 10.40625 7.066406 C 8.46875 7.550781 6.515625 9.15625 4.394531 11.992188 C 3.0625 13.777344 2.679688 14.636719 3.042969 15.027344 L 3.15625 15.152344 L 3.519531 15.152344 C 4.238281 15.152344 4.828125 14.886719 8.1875 13.039062 C 9.386719 12.378906 10.371094 11.839844 10.378906 11.839844 C 10.386719 11.839844 10.355469 11.929688 10.304688 12.035156 C 9.832031 13.09375 9.257812 14.820312 8.96875 16.078125 C 7.914062 20.652344 8.617188 24.53125 11.070312 27.660156 C 11.351562 28.015625 11.363281 27.914062 10.972656 28.382812 C 8.925781 30.84375 7.945312 33.28125 8.238281 35.1875 C 8.289062 35.527344 8.28125 35.523438 8.917969 35.523438 C 10.941406 35.523438 13.074219 34.207031 15.136719 31.6875 C 15.359375 31.417969 15.328125 31.425781 15.5625 31.574219 C 16.292969 32.042969 18.023438 32.964844 18.175781 32.964844 C 18.335938 32.964844 19.941406 32.210938 20.828125 31.71875 C 20.996094 31.625 21.136719 31.554688 21.136719 31.558594 C 21.203125 31.664062 21.898438 32.414062 22.222656 32.730469 C 23.835938 34.300781 25.5625 35.132812 27.582031 35.300781 C 27.90625 35.328125 27.9375 35.308594 28.007812 34.984375 C 28.382812 33.242188 27.625 30.925781 25.863281 28.425781 L 25.542969 27.96875 L 25.699219 27.785156 C 28.945312 23.960938 29.132812 18.699219 26.257812 11.96875 L 26.207031 11.84375 L 27.945312 12.703125 C 31.53125 14.476562 32.316406 14.800781 33.03125 14.800781 C 33.976562 14.800781 33.78125 13.9375 32.472656 12.292969 C 28.519531 7.355469 25.394531 5.925781 21.921875 7.472656 L 21.558594 7.636719 L 21.578125 7.542969 C 21.699219 6.992188 21.761719 5.742188 21.699219 5.164062 C 21.496094 3.296875 20.664062 1.964844 19.003906 0.855469 C 18.480469 0.503906 18.457031 0.5 18.214844 0.632812\"/>\n",
              "</g>\n",
              "      </svg>\n",
              "    "
            ],
            "text/plain": [
              "<IPython.core.display.HTML object>"
            ]
          },
          "metadata": {}
        }
      ]
    },
    {
      "cell_type": "code",
      "metadata": {
        "colab": {
          "base_uri": "https://localhost:8080/",
          "height": 520
        },
        "id": "dmI9hr07CyAz",
        "outputId": "a0cd1bea-cecd-4bdf-b98c-0ff1603531d1"
      },
      "source": [
        "initializeTurtle()\n",
        "for i in range(4):\n",
        "  forward(100)\n",
        "  right(90)"
      ],
      "execution_count": 113,
      "outputs": [
        {
          "output_type": "display_data",
          "data": {
            "text/html": [
              "\n",
              "      <svg width=\"800\" height=\"500\">\n",
              "        <rect width=\"100%\" height=\"100%\" fill=\"black\"/>\n",
              "        <line x1=\"400\" y1=\"250\" x2=\"400.0\" y2=\"150.0\" stroke-linecap=\"round\" style=\"stroke:white;stroke-width:4\"/><line x1=\"400.0\" y1=\"150.0\" x2=\"500.0\" y2=\"150.0\" stroke-linecap=\"round\" style=\"stroke:white;stroke-width:4\"/><line x1=\"500.0\" y1=\"150.0\" x2=\"500.0\" y2=\"250.0\" stroke-linecap=\"round\" style=\"stroke:white;stroke-width:4\"/><line x1=\"500.0\" y1=\"250.0\" x2=\"400.0\" y2=\"250.0\" stroke-linecap=\"round\" style=\"stroke:white;stroke-width:4\"/>\n",
              "        <g visibility=visible transform=\"rotate(360,400.0,250.0) translate(382.0, 232.0)\">\n",
              "<path style=\" stroke:none;fill-rule:evenodd;fill:white;fill-opacity:1;\" d=\"M 18.214844 0.632812 C 16.109375 1.800781 15.011719 4.074219 15.074219 7.132812 L 15.085938 7.652344 L 14.785156 7.496094 C 13.476562 6.824219 11.957031 6.671875 10.40625 7.066406 C 8.46875 7.550781 6.515625 9.15625 4.394531 11.992188 C 3.0625 13.777344 2.679688 14.636719 3.042969 15.027344 L 3.15625 15.152344 L 3.519531 15.152344 C 4.238281 15.152344 4.828125 14.886719 8.1875 13.039062 C 9.386719 12.378906 10.371094 11.839844 10.378906 11.839844 C 10.386719 11.839844 10.355469 11.929688 10.304688 12.035156 C 9.832031 13.09375 9.257812 14.820312 8.96875 16.078125 C 7.914062 20.652344 8.617188 24.53125 11.070312 27.660156 C 11.351562 28.015625 11.363281 27.914062 10.972656 28.382812 C 8.925781 30.84375 7.945312 33.28125 8.238281 35.1875 C 8.289062 35.527344 8.28125 35.523438 8.917969 35.523438 C 10.941406 35.523438 13.074219 34.207031 15.136719 31.6875 C 15.359375 31.417969 15.328125 31.425781 15.5625 31.574219 C 16.292969 32.042969 18.023438 32.964844 18.175781 32.964844 C 18.335938 32.964844 19.941406 32.210938 20.828125 31.71875 C 20.996094 31.625 21.136719 31.554688 21.136719 31.558594 C 21.203125 31.664062 21.898438 32.414062 22.222656 32.730469 C 23.835938 34.300781 25.5625 35.132812 27.582031 35.300781 C 27.90625 35.328125 27.9375 35.308594 28.007812 34.984375 C 28.382812 33.242188 27.625 30.925781 25.863281 28.425781 L 25.542969 27.96875 L 25.699219 27.785156 C 28.945312 23.960938 29.132812 18.699219 26.257812 11.96875 L 26.207031 11.84375 L 27.945312 12.703125 C 31.53125 14.476562 32.316406 14.800781 33.03125 14.800781 C 33.976562 14.800781 33.78125 13.9375 32.472656 12.292969 C 28.519531 7.355469 25.394531 5.925781 21.921875 7.472656 L 21.558594 7.636719 L 21.578125 7.542969 C 21.699219 6.992188 21.761719 5.742188 21.699219 5.164062 C 21.496094 3.296875 20.664062 1.964844 19.003906 0.855469 C 18.480469 0.503906 18.457031 0.5 18.214844 0.632812\"/>\n",
              "</g>\n",
              "      </svg>\n",
              "    "
            ],
            "text/plain": [
              "<IPython.core.display.HTML object>"
            ]
          },
          "metadata": {}
        }
      ]
    },
    {
      "cell_type": "code",
      "metadata": {
        "colab": {
          "base_uri": "https://localhost:8080/",
          "height": 520
        },
        "id": "BATrdPo0B_y6",
        "outputId": "e1815cfa-dd55-4d7a-ad45-73ddeba8c92f"
      },
      "source": [
        "initializeTurtle()\n",
        "forward(50)\n",
        "right(90)\n",
        "forward(100)\n",
        "right(90)\n",
        "forward(50)\n",
        "right(90)\n",
        "forward(100)\n",
        "right(90)"
      ],
      "execution_count": 114,
      "outputs": [
        {
          "output_type": "display_data",
          "data": {
            "text/html": [
              "\n",
              "      <svg width=\"800\" height=\"500\">\n",
              "        <rect width=\"100%\" height=\"100%\" fill=\"black\"/>\n",
              "        <line x1=\"400\" y1=\"250\" x2=\"400.0\" y2=\"200.0\" stroke-linecap=\"round\" style=\"stroke:white;stroke-width:4\"/><line x1=\"400.0\" y1=\"200.0\" x2=\"500.0\" y2=\"200.0\" stroke-linecap=\"round\" style=\"stroke:white;stroke-width:4\"/><line x1=\"500.0\" y1=\"200.0\" x2=\"500.0\" y2=\"250.0\" stroke-linecap=\"round\" style=\"stroke:white;stroke-width:4\"/><line x1=\"500.0\" y1=\"250.0\" x2=\"400.0\" y2=\"250.0\" stroke-linecap=\"round\" style=\"stroke:white;stroke-width:4\"/>\n",
              "        <g visibility=visible transform=\"rotate(360,400.0,250.0) translate(382.0, 232.0)\">\n",
              "<path style=\" stroke:none;fill-rule:evenodd;fill:white;fill-opacity:1;\" d=\"M 18.214844 0.632812 C 16.109375 1.800781 15.011719 4.074219 15.074219 7.132812 L 15.085938 7.652344 L 14.785156 7.496094 C 13.476562 6.824219 11.957031 6.671875 10.40625 7.066406 C 8.46875 7.550781 6.515625 9.15625 4.394531 11.992188 C 3.0625 13.777344 2.679688 14.636719 3.042969 15.027344 L 3.15625 15.152344 L 3.519531 15.152344 C 4.238281 15.152344 4.828125 14.886719 8.1875 13.039062 C 9.386719 12.378906 10.371094 11.839844 10.378906 11.839844 C 10.386719 11.839844 10.355469 11.929688 10.304688 12.035156 C 9.832031 13.09375 9.257812 14.820312 8.96875 16.078125 C 7.914062 20.652344 8.617188 24.53125 11.070312 27.660156 C 11.351562 28.015625 11.363281 27.914062 10.972656 28.382812 C 8.925781 30.84375 7.945312 33.28125 8.238281 35.1875 C 8.289062 35.527344 8.28125 35.523438 8.917969 35.523438 C 10.941406 35.523438 13.074219 34.207031 15.136719 31.6875 C 15.359375 31.417969 15.328125 31.425781 15.5625 31.574219 C 16.292969 32.042969 18.023438 32.964844 18.175781 32.964844 C 18.335938 32.964844 19.941406 32.210938 20.828125 31.71875 C 20.996094 31.625 21.136719 31.554688 21.136719 31.558594 C 21.203125 31.664062 21.898438 32.414062 22.222656 32.730469 C 23.835938 34.300781 25.5625 35.132812 27.582031 35.300781 C 27.90625 35.328125 27.9375 35.308594 28.007812 34.984375 C 28.382812 33.242188 27.625 30.925781 25.863281 28.425781 L 25.542969 27.96875 L 25.699219 27.785156 C 28.945312 23.960938 29.132812 18.699219 26.257812 11.96875 L 26.207031 11.84375 L 27.945312 12.703125 C 31.53125 14.476562 32.316406 14.800781 33.03125 14.800781 C 33.976562 14.800781 33.78125 13.9375 32.472656 12.292969 C 28.519531 7.355469 25.394531 5.925781 21.921875 7.472656 L 21.558594 7.636719 L 21.578125 7.542969 C 21.699219 6.992188 21.761719 5.742188 21.699219 5.164062 C 21.496094 3.296875 20.664062 1.964844 19.003906 0.855469 C 18.480469 0.503906 18.457031 0.5 18.214844 0.632812\"/>\n",
              "</g>\n",
              "      </svg>\n",
              "    "
            ],
            "text/plain": [
              "<IPython.core.display.HTML object>"
            ]
          },
          "metadata": {}
        }
      ]
    },
    {
      "cell_type": "code",
      "metadata": {
        "colab": {
          "base_uri": "https://localhost:8080/",
          "height": 520
        },
        "id": "wddsT5s0DKIG",
        "outputId": "5892e5ed-236a-4b08-f084-6e7e8e8e517e"
      },
      "source": [
        "initializeTurtle()\n",
        "for i in range(2):\n",
        "  forward(50)\n",
        "  right(90)\n",
        "  forward(100)\n",
        "  right(90)"
      ],
      "execution_count": 115,
      "outputs": [
        {
          "output_type": "display_data",
          "data": {
            "text/html": [
              "\n",
              "      <svg width=\"800\" height=\"500\">\n",
              "        <rect width=\"100%\" height=\"100%\" fill=\"black\"/>\n",
              "        <line x1=\"400\" y1=\"250\" x2=\"400.0\" y2=\"200.0\" stroke-linecap=\"round\" style=\"stroke:white;stroke-width:4\"/><line x1=\"400.0\" y1=\"200.0\" x2=\"500.0\" y2=\"200.0\" stroke-linecap=\"round\" style=\"stroke:white;stroke-width:4\"/><line x1=\"500.0\" y1=\"200.0\" x2=\"500.0\" y2=\"250.0\" stroke-linecap=\"round\" style=\"stroke:white;stroke-width:4\"/><line x1=\"500.0\" y1=\"250.0\" x2=\"400.0\" y2=\"250.0\" stroke-linecap=\"round\" style=\"stroke:white;stroke-width:4\"/>\n",
              "        <g visibility=visible transform=\"rotate(360,400.0,250.0) translate(382.0, 232.0)\">\n",
              "<path style=\" stroke:none;fill-rule:evenodd;fill:white;fill-opacity:1;\" d=\"M 18.214844 0.632812 C 16.109375 1.800781 15.011719 4.074219 15.074219 7.132812 L 15.085938 7.652344 L 14.785156 7.496094 C 13.476562 6.824219 11.957031 6.671875 10.40625 7.066406 C 8.46875 7.550781 6.515625 9.15625 4.394531 11.992188 C 3.0625 13.777344 2.679688 14.636719 3.042969 15.027344 L 3.15625 15.152344 L 3.519531 15.152344 C 4.238281 15.152344 4.828125 14.886719 8.1875 13.039062 C 9.386719 12.378906 10.371094 11.839844 10.378906 11.839844 C 10.386719 11.839844 10.355469 11.929688 10.304688 12.035156 C 9.832031 13.09375 9.257812 14.820312 8.96875 16.078125 C 7.914062 20.652344 8.617188 24.53125 11.070312 27.660156 C 11.351562 28.015625 11.363281 27.914062 10.972656 28.382812 C 8.925781 30.84375 7.945312 33.28125 8.238281 35.1875 C 8.289062 35.527344 8.28125 35.523438 8.917969 35.523438 C 10.941406 35.523438 13.074219 34.207031 15.136719 31.6875 C 15.359375 31.417969 15.328125 31.425781 15.5625 31.574219 C 16.292969 32.042969 18.023438 32.964844 18.175781 32.964844 C 18.335938 32.964844 19.941406 32.210938 20.828125 31.71875 C 20.996094 31.625 21.136719 31.554688 21.136719 31.558594 C 21.203125 31.664062 21.898438 32.414062 22.222656 32.730469 C 23.835938 34.300781 25.5625 35.132812 27.582031 35.300781 C 27.90625 35.328125 27.9375 35.308594 28.007812 34.984375 C 28.382812 33.242188 27.625 30.925781 25.863281 28.425781 L 25.542969 27.96875 L 25.699219 27.785156 C 28.945312 23.960938 29.132812 18.699219 26.257812 11.96875 L 26.207031 11.84375 L 27.945312 12.703125 C 31.53125 14.476562 32.316406 14.800781 33.03125 14.800781 C 33.976562 14.800781 33.78125 13.9375 32.472656 12.292969 C 28.519531 7.355469 25.394531 5.925781 21.921875 7.472656 L 21.558594 7.636719 L 21.578125 7.542969 C 21.699219 6.992188 21.761719 5.742188 21.699219 5.164062 C 21.496094 3.296875 20.664062 1.964844 19.003906 0.855469 C 18.480469 0.503906 18.457031 0.5 18.214844 0.632812\"/>\n",
              "</g>\n",
              "      </svg>\n",
              "    "
            ],
            "text/plain": [
              "<IPython.core.display.HTML object>"
            ]
          },
          "metadata": {}
        }
      ]
    },
    {
      "cell_type": "code",
      "metadata": {
        "colab": {
          "base_uri": "https://localhost:8080/",
          "height": 520
        },
        "id": "L_33s7lvFNqb",
        "outputId": "f4543163-78fa-4fa6-c6fc-58f3d3b1703d"
      },
      "source": [
        "import numpy as np\n",
        "\n",
        "initializeTurtle()\n",
        "color(\"red\")\n",
        "speed(10)\n",
        "\n",
        "r = 100\n",
        "\n",
        "for i in range(100):\n",
        "  angle = (2 * np.pi)/100 * i\n",
        "  x = r * np.cos(angle)\n",
        "  y = r * np.sin(angle)\n",
        "  goto(300 + x,250 + y)"
      ],
      "execution_count": 116,
      "outputs": [
        {
          "output_type": "display_data",
          "data": {
            "text/html": [
              "\n",
              "      <svg width=\"800\" height=\"500\">\n",
              "        <rect width=\"100%\" height=\"100%\" fill=\"black\"/>\n",
              "        <line x1=\"400\" y1=\"250\" x2=\"400.0\" y2=\"250.0\" stroke-linecap=\"round\" style=\"stroke:red;stroke-width:4\"/><line x1=\"400.0\" y1=\"250.0\" x2=\"399.803\" y2=\"256.279\" stroke-linecap=\"round\" style=\"stroke:red;stroke-width:4\"/><line x1=\"399.803\" y1=\"256.279\" x2=\"399.211\" y2=\"262.533\" stroke-linecap=\"round\" style=\"stroke:red;stroke-width:4\"/><line x1=\"399.211\" y1=\"262.533\" x2=\"398.229\" y2=\"268.738\" stroke-linecap=\"round\" style=\"stroke:red;stroke-width:4\"/><line x1=\"398.229\" y1=\"268.738\" x2=\"396.858\" y2=\"274.869\" stroke-linecap=\"round\" style=\"stroke:red;stroke-width:4\"/><line x1=\"396.858\" y1=\"274.869\" x2=\"395.106\" y2=\"280.902\" stroke-linecap=\"round\" style=\"stroke:red;stroke-width:4\"/><line x1=\"395.106\" y1=\"280.902\" x2=\"392.978\" y2=\"286.812\" stroke-linecap=\"round\" style=\"stroke:red;stroke-width:4\"/><line x1=\"392.978\" y1=\"286.812\" x2=\"390.483\" y2=\"292.578\" stroke-linecap=\"round\" style=\"stroke:red;stroke-width:4\"/><line x1=\"390.483\" y1=\"292.578\" x2=\"387.631\" y2=\"298.175\" stroke-linecap=\"round\" style=\"stroke:red;stroke-width:4\"/><line x1=\"387.631\" y1=\"298.175\" x2=\"384.433\" y2=\"303.583\" stroke-linecap=\"round\" style=\"stroke:red;stroke-width:4\"/><line x1=\"384.433\" y1=\"303.583\" x2=\"380.902\" y2=\"308.779\" stroke-linecap=\"round\" style=\"stroke:red;stroke-width:4\"/><line x1=\"380.902\" y1=\"308.779\" x2=\"377.051\" y2=\"313.742\" stroke-linecap=\"round\" style=\"stroke:red;stroke-width:4\"/><line x1=\"377.051\" y1=\"313.742\" x2=\"372.897\" y2=\"318.455\" stroke-linecap=\"round\" style=\"stroke:red;stroke-width:4\"/><line x1=\"372.897\" y1=\"318.455\" x2=\"368.455\" y2=\"322.897\" stroke-linecap=\"round\" style=\"stroke:red;stroke-width:4\"/><line x1=\"368.455\" y1=\"322.897\" x2=\"363.742\" y2=\"327.051\" stroke-linecap=\"round\" style=\"stroke:red;stroke-width:4\"/><line x1=\"363.742\" y1=\"327.051\" x2=\"358.779\" y2=\"330.902\" stroke-linecap=\"round\" style=\"stroke:red;stroke-width:4\"/><line x1=\"358.779\" y1=\"330.902\" x2=\"353.583\" y2=\"334.433\" stroke-linecap=\"round\" style=\"stroke:red;stroke-width:4\"/><line x1=\"353.583\" y1=\"334.433\" x2=\"348.175\" y2=\"337.631\" stroke-linecap=\"round\" style=\"stroke:red;stroke-width:4\"/><line x1=\"348.175\" y1=\"337.631\" x2=\"342.578\" y2=\"340.483\" stroke-linecap=\"round\" style=\"stroke:red;stroke-width:4\"/><line x1=\"342.578\" y1=\"340.483\" x2=\"336.812\" y2=\"342.978\" stroke-linecap=\"round\" style=\"stroke:red;stroke-width:4\"/><line x1=\"336.812\" y1=\"342.978\" x2=\"330.902\" y2=\"345.106\" stroke-linecap=\"round\" style=\"stroke:red;stroke-width:4\"/><line x1=\"330.902\" y1=\"345.106\" x2=\"324.869\" y2=\"346.858\" stroke-linecap=\"round\" style=\"stroke:red;stroke-width:4\"/><line x1=\"324.869\" y1=\"346.858\" x2=\"318.738\" y2=\"348.229\" stroke-linecap=\"round\" style=\"stroke:red;stroke-width:4\"/><line x1=\"318.738\" y1=\"348.229\" x2=\"312.533\" y2=\"349.211\" stroke-linecap=\"round\" style=\"stroke:red;stroke-width:4\"/><line x1=\"312.533\" y1=\"349.211\" x2=\"306.279\" y2=\"349.803\" stroke-linecap=\"round\" style=\"stroke:red;stroke-width:4\"/><line x1=\"306.279\" y1=\"349.803\" x2=\"300.0\" y2=\"350.0\" stroke-linecap=\"round\" style=\"stroke:red;stroke-width:4\"/><line x1=\"300.0\" y1=\"350.0\" x2=\"293.721\" y2=\"349.803\" stroke-linecap=\"round\" style=\"stroke:red;stroke-width:4\"/><line x1=\"293.721\" y1=\"349.803\" x2=\"287.467\" y2=\"349.211\" stroke-linecap=\"round\" style=\"stroke:red;stroke-width:4\"/><line x1=\"287.467\" y1=\"349.211\" x2=\"281.262\" y2=\"348.229\" stroke-linecap=\"round\" style=\"stroke:red;stroke-width:4\"/><line x1=\"281.262\" y1=\"348.229\" x2=\"275.131\" y2=\"346.858\" stroke-linecap=\"round\" style=\"stroke:red;stroke-width:4\"/><line x1=\"275.131\" y1=\"346.858\" x2=\"269.098\" y2=\"345.106\" stroke-linecap=\"round\" style=\"stroke:red;stroke-width:4\"/><line x1=\"269.098\" y1=\"345.106\" x2=\"263.188\" y2=\"342.978\" stroke-linecap=\"round\" style=\"stroke:red;stroke-width:4\"/><line x1=\"263.188\" y1=\"342.978\" x2=\"257.422\" y2=\"340.483\" stroke-linecap=\"round\" style=\"stroke:red;stroke-width:4\"/><line x1=\"257.422\" y1=\"340.483\" x2=\"251.825\" y2=\"337.631\" stroke-linecap=\"round\" style=\"stroke:red;stroke-width:4\"/><line x1=\"251.825\" y1=\"337.631\" x2=\"246.417\" y2=\"334.433\" stroke-linecap=\"round\" style=\"stroke:red;stroke-width:4\"/><line x1=\"246.417\" y1=\"334.433\" x2=\"241.221\" y2=\"330.902\" stroke-linecap=\"round\" style=\"stroke:red;stroke-width:4\"/><line x1=\"241.221\" y1=\"330.902\" x2=\"236.258\" y2=\"327.051\" stroke-linecap=\"round\" style=\"stroke:red;stroke-width:4\"/><line x1=\"236.258\" y1=\"327.051\" x2=\"231.545\" y2=\"322.897\" stroke-linecap=\"round\" style=\"stroke:red;stroke-width:4\"/><line x1=\"231.545\" y1=\"322.897\" x2=\"227.103\" y2=\"318.455\" stroke-linecap=\"round\" style=\"stroke:red;stroke-width:4\"/><line x1=\"227.103\" y1=\"318.455\" x2=\"222.949\" y2=\"313.742\" stroke-linecap=\"round\" style=\"stroke:red;stroke-width:4\"/><line x1=\"222.949\" y1=\"313.742\" x2=\"219.098\" y2=\"308.779\" stroke-linecap=\"round\" style=\"stroke:red;stroke-width:4\"/><line x1=\"219.098\" y1=\"308.779\" x2=\"215.567\" y2=\"303.583\" stroke-linecap=\"round\" style=\"stroke:red;stroke-width:4\"/><line x1=\"215.567\" y1=\"303.583\" x2=\"212.369\" y2=\"298.175\" stroke-linecap=\"round\" style=\"stroke:red;stroke-width:4\"/><line x1=\"212.369\" y1=\"298.175\" x2=\"209.517\" y2=\"292.578\" stroke-linecap=\"round\" style=\"stroke:red;stroke-width:4\"/><line x1=\"209.517\" y1=\"292.578\" x2=\"207.022\" y2=\"286.812\" stroke-linecap=\"round\" style=\"stroke:red;stroke-width:4\"/><line x1=\"207.022\" y1=\"286.812\" x2=\"204.894\" y2=\"280.902\" stroke-linecap=\"round\" style=\"stroke:red;stroke-width:4\"/><line x1=\"204.894\" y1=\"280.902\" x2=\"203.142\" y2=\"274.869\" stroke-linecap=\"round\" style=\"stroke:red;stroke-width:4\"/><line x1=\"203.142\" y1=\"274.869\" x2=\"201.771\" y2=\"268.738\" stroke-linecap=\"round\" style=\"stroke:red;stroke-width:4\"/><line x1=\"201.771\" y1=\"268.738\" x2=\"200.789\" y2=\"262.533\" stroke-linecap=\"round\" style=\"stroke:red;stroke-width:4\"/><line x1=\"200.789\" y1=\"262.533\" x2=\"200.197\" y2=\"256.279\" stroke-linecap=\"round\" style=\"stroke:red;stroke-width:4\"/><line x1=\"200.197\" y1=\"256.279\" x2=\"200.0\" y2=\"250.0\" stroke-linecap=\"round\" style=\"stroke:red;stroke-width:4\"/><line x1=\"200.0\" y1=\"250.0\" x2=\"200.197\" y2=\"243.721\" stroke-linecap=\"round\" style=\"stroke:red;stroke-width:4\"/><line x1=\"200.197\" y1=\"243.721\" x2=\"200.789\" y2=\"237.467\" stroke-linecap=\"round\" style=\"stroke:red;stroke-width:4\"/><line x1=\"200.789\" y1=\"237.467\" x2=\"201.771\" y2=\"231.262\" stroke-linecap=\"round\" style=\"stroke:red;stroke-width:4\"/><line x1=\"201.771\" y1=\"231.262\" x2=\"203.142\" y2=\"225.131\" stroke-linecap=\"round\" style=\"stroke:red;stroke-width:4\"/><line x1=\"203.142\" y1=\"225.131\" x2=\"204.894\" y2=\"219.098\" stroke-linecap=\"round\" style=\"stroke:red;stroke-width:4\"/><line x1=\"204.894\" y1=\"219.098\" x2=\"207.022\" y2=\"213.188\" stroke-linecap=\"round\" style=\"stroke:red;stroke-width:4\"/><line x1=\"207.022\" y1=\"213.188\" x2=\"209.517\" y2=\"207.422\" stroke-linecap=\"round\" style=\"stroke:red;stroke-width:4\"/><line x1=\"209.517\" y1=\"207.422\" x2=\"212.369\" y2=\"201.825\" stroke-linecap=\"round\" style=\"stroke:red;stroke-width:4\"/><line x1=\"212.369\" y1=\"201.825\" x2=\"215.567\" y2=\"196.417\" stroke-linecap=\"round\" style=\"stroke:red;stroke-width:4\"/><line x1=\"215.567\" y1=\"196.417\" x2=\"219.098\" y2=\"191.221\" stroke-linecap=\"round\" style=\"stroke:red;stroke-width:4\"/><line x1=\"219.098\" y1=\"191.221\" x2=\"222.949\" y2=\"186.258\" stroke-linecap=\"round\" style=\"stroke:red;stroke-width:4\"/><line x1=\"222.949\" y1=\"186.258\" x2=\"227.103\" y2=\"181.545\" stroke-linecap=\"round\" style=\"stroke:red;stroke-width:4\"/><line x1=\"227.103\" y1=\"181.545\" x2=\"231.545\" y2=\"177.103\" stroke-linecap=\"round\" style=\"stroke:red;stroke-width:4\"/><line x1=\"231.545\" y1=\"177.103\" x2=\"236.258\" y2=\"172.949\" stroke-linecap=\"round\" style=\"stroke:red;stroke-width:4\"/><line x1=\"236.258\" y1=\"172.949\" x2=\"241.221\" y2=\"169.098\" stroke-linecap=\"round\" style=\"stroke:red;stroke-width:4\"/><line x1=\"241.221\" y1=\"169.098\" x2=\"246.417\" y2=\"165.567\" stroke-linecap=\"round\" style=\"stroke:red;stroke-width:4\"/><line x1=\"246.417\" y1=\"165.567\" x2=\"251.825\" y2=\"162.369\" stroke-linecap=\"round\" style=\"stroke:red;stroke-width:4\"/><line x1=\"251.825\" y1=\"162.369\" x2=\"257.422\" y2=\"159.517\" stroke-linecap=\"round\" style=\"stroke:red;stroke-width:4\"/><line x1=\"257.422\" y1=\"159.517\" x2=\"263.188\" y2=\"157.022\" stroke-linecap=\"round\" style=\"stroke:red;stroke-width:4\"/><line x1=\"263.188\" y1=\"157.022\" x2=\"269.098\" y2=\"154.894\" stroke-linecap=\"round\" style=\"stroke:red;stroke-width:4\"/><line x1=\"269.098\" y1=\"154.894\" x2=\"275.131\" y2=\"153.142\" stroke-linecap=\"round\" style=\"stroke:red;stroke-width:4\"/><line x1=\"275.131\" y1=\"153.142\" x2=\"281.262\" y2=\"151.771\" stroke-linecap=\"round\" style=\"stroke:red;stroke-width:4\"/><line x1=\"281.262\" y1=\"151.771\" x2=\"287.467\" y2=\"150.789\" stroke-linecap=\"round\" style=\"stroke:red;stroke-width:4\"/><line x1=\"287.467\" y1=\"150.789\" x2=\"293.721\" y2=\"150.197\" stroke-linecap=\"round\" style=\"stroke:red;stroke-width:4\"/><line x1=\"293.721\" y1=\"150.197\" x2=\"300.0\" y2=\"150.0\" stroke-linecap=\"round\" style=\"stroke:red;stroke-width:4\"/><line x1=\"300.0\" y1=\"150.0\" x2=\"306.279\" y2=\"150.197\" stroke-linecap=\"round\" style=\"stroke:red;stroke-width:4\"/><line x1=\"306.279\" y1=\"150.197\" x2=\"312.533\" y2=\"150.789\" stroke-linecap=\"round\" style=\"stroke:red;stroke-width:4\"/><line x1=\"312.533\" y1=\"150.789\" x2=\"318.738\" y2=\"151.771\" stroke-linecap=\"round\" style=\"stroke:red;stroke-width:4\"/><line x1=\"318.738\" y1=\"151.771\" x2=\"324.869\" y2=\"153.142\" stroke-linecap=\"round\" style=\"stroke:red;stroke-width:4\"/><line x1=\"324.869\" y1=\"153.142\" x2=\"330.902\" y2=\"154.894\" stroke-linecap=\"round\" style=\"stroke:red;stroke-width:4\"/><line x1=\"330.902\" y1=\"154.894\" x2=\"336.812\" y2=\"157.022\" stroke-linecap=\"round\" style=\"stroke:red;stroke-width:4\"/><line x1=\"336.812\" y1=\"157.022\" x2=\"342.578\" y2=\"159.517\" stroke-linecap=\"round\" style=\"stroke:red;stroke-width:4\"/><line x1=\"342.578\" y1=\"159.517\" x2=\"348.175\" y2=\"162.369\" stroke-linecap=\"round\" style=\"stroke:red;stroke-width:4\"/><line x1=\"348.175\" y1=\"162.369\" x2=\"353.583\" y2=\"165.567\" stroke-linecap=\"round\" style=\"stroke:red;stroke-width:4\"/><line x1=\"353.583\" y1=\"165.567\" x2=\"358.779\" y2=\"169.098\" stroke-linecap=\"round\" style=\"stroke:red;stroke-width:4\"/><line x1=\"358.779\" y1=\"169.098\" x2=\"363.742\" y2=\"172.949\" stroke-linecap=\"round\" style=\"stroke:red;stroke-width:4\"/><line x1=\"363.742\" y1=\"172.949\" x2=\"368.455\" y2=\"177.103\" stroke-linecap=\"round\" style=\"stroke:red;stroke-width:4\"/><line x1=\"368.455\" y1=\"177.103\" x2=\"372.897\" y2=\"181.545\" stroke-linecap=\"round\" style=\"stroke:red;stroke-width:4\"/><line x1=\"372.897\" y1=\"181.545\" x2=\"377.051\" y2=\"186.258\" stroke-linecap=\"round\" style=\"stroke:red;stroke-width:4\"/><line x1=\"377.051\" y1=\"186.258\" x2=\"380.902\" y2=\"191.221\" stroke-linecap=\"round\" style=\"stroke:red;stroke-width:4\"/><line x1=\"380.902\" y1=\"191.221\" x2=\"384.433\" y2=\"196.417\" stroke-linecap=\"round\" style=\"stroke:red;stroke-width:4\"/><line x1=\"384.433\" y1=\"196.417\" x2=\"387.631\" y2=\"201.825\" stroke-linecap=\"round\" style=\"stroke:red;stroke-width:4\"/><line x1=\"387.631\" y1=\"201.825\" x2=\"390.483\" y2=\"207.422\" stroke-linecap=\"round\" style=\"stroke:red;stroke-width:4\"/><line x1=\"390.483\" y1=\"207.422\" x2=\"392.978\" y2=\"213.188\" stroke-linecap=\"round\" style=\"stroke:red;stroke-width:4\"/><line x1=\"392.978\" y1=\"213.188\" x2=\"395.106\" y2=\"219.098\" stroke-linecap=\"round\" style=\"stroke:red;stroke-width:4\"/><line x1=\"395.106\" y1=\"219.098\" x2=\"396.858\" y2=\"225.131\" stroke-linecap=\"round\" style=\"stroke:red;stroke-width:4\"/><line x1=\"396.858\" y1=\"225.131\" x2=\"398.229\" y2=\"231.262\" stroke-linecap=\"round\" style=\"stroke:red;stroke-width:4\"/><line x1=\"398.229\" y1=\"231.262\" x2=\"399.211\" y2=\"237.467\" stroke-linecap=\"round\" style=\"stroke:red;stroke-width:4\"/><line x1=\"399.211\" y1=\"237.467\" x2=\"399.803\" y2=\"243.721\" stroke-linecap=\"round\" style=\"stroke:red;stroke-width:4\"/>\n",
              "        <g visibility=visible transform=\"rotate(360,399.803,243.721) translate(381.803, 225.721)\">\n",
              "<path style=\" stroke:none;fill-rule:evenodd;fill:red;fill-opacity:1;\" d=\"M 18.214844 0.632812 C 16.109375 1.800781 15.011719 4.074219 15.074219 7.132812 L 15.085938 7.652344 L 14.785156 7.496094 C 13.476562 6.824219 11.957031 6.671875 10.40625 7.066406 C 8.46875 7.550781 6.515625 9.15625 4.394531 11.992188 C 3.0625 13.777344 2.679688 14.636719 3.042969 15.027344 L 3.15625 15.152344 L 3.519531 15.152344 C 4.238281 15.152344 4.828125 14.886719 8.1875 13.039062 C 9.386719 12.378906 10.371094 11.839844 10.378906 11.839844 C 10.386719 11.839844 10.355469 11.929688 10.304688 12.035156 C 9.832031 13.09375 9.257812 14.820312 8.96875 16.078125 C 7.914062 20.652344 8.617188 24.53125 11.070312 27.660156 C 11.351562 28.015625 11.363281 27.914062 10.972656 28.382812 C 8.925781 30.84375 7.945312 33.28125 8.238281 35.1875 C 8.289062 35.527344 8.28125 35.523438 8.917969 35.523438 C 10.941406 35.523438 13.074219 34.207031 15.136719 31.6875 C 15.359375 31.417969 15.328125 31.425781 15.5625 31.574219 C 16.292969 32.042969 18.023438 32.964844 18.175781 32.964844 C 18.335938 32.964844 19.941406 32.210938 20.828125 31.71875 C 20.996094 31.625 21.136719 31.554688 21.136719 31.558594 C 21.203125 31.664062 21.898438 32.414062 22.222656 32.730469 C 23.835938 34.300781 25.5625 35.132812 27.582031 35.300781 C 27.90625 35.328125 27.9375 35.308594 28.007812 34.984375 C 28.382812 33.242188 27.625 30.925781 25.863281 28.425781 L 25.542969 27.96875 L 25.699219 27.785156 C 28.945312 23.960938 29.132812 18.699219 26.257812 11.96875 L 26.207031 11.84375 L 27.945312 12.703125 C 31.53125 14.476562 32.316406 14.800781 33.03125 14.800781 C 33.976562 14.800781 33.78125 13.9375 32.472656 12.292969 C 28.519531 7.355469 25.394531 5.925781 21.921875 7.472656 L 21.558594 7.636719 L 21.578125 7.542969 C 21.699219 6.992188 21.761719 5.742188 21.699219 5.164062 C 21.496094 3.296875 20.664062 1.964844 19.003906 0.855469 C 18.480469 0.503906 18.457031 0.5 18.214844 0.632812\"/>\n",
              "</g>\n",
              "      </svg>\n",
              "    "
            ],
            "text/plain": [
              "<IPython.core.display.HTML object>"
            ]
          },
          "metadata": {}
        }
      ]
    },
    {
      "cell_type": "code",
      "metadata": {
        "colab": {
          "base_uri": "https://localhost:8080/",
          "height": 520
        },
        "id": "oHnYlXx4IiQU",
        "outputId": "fb34a2bf-eeb9-44d2-d3a0-069dac77cc9e"
      },
      "source": [
        "initializeTurtle()\n",
        "for i in range(3):\n",
        "  forward(100)\n",
        "  right(120)"
      ],
      "execution_count": 117,
      "outputs": [
        {
          "output_type": "display_data",
          "data": {
            "text/html": [
              "\n",
              "      <svg width=\"800\" height=\"500\">\n",
              "        <rect width=\"100%\" height=\"100%\" fill=\"black\"/>\n",
              "        <line x1=\"400\" y1=\"250\" x2=\"400.0\" y2=\"150.0\" stroke-linecap=\"round\" style=\"stroke:white;stroke-width:4\"/><line x1=\"400.0\" y1=\"150.0\" x2=\"486.603\" y2=\"200.0\" stroke-linecap=\"round\" style=\"stroke:white;stroke-width:4\"/><line x1=\"486.603\" y1=\"200.0\" x2=\"400.0\" y2=\"250.0\" stroke-linecap=\"round\" style=\"stroke:white;stroke-width:4\"/>\n",
              "        <g visibility=visible transform=\"rotate(360,400.0,250.0) translate(382.0, 232.0)\">\n",
              "<path style=\" stroke:none;fill-rule:evenodd;fill:white;fill-opacity:1;\" d=\"M 18.214844 0.632812 C 16.109375 1.800781 15.011719 4.074219 15.074219 7.132812 L 15.085938 7.652344 L 14.785156 7.496094 C 13.476562 6.824219 11.957031 6.671875 10.40625 7.066406 C 8.46875 7.550781 6.515625 9.15625 4.394531 11.992188 C 3.0625 13.777344 2.679688 14.636719 3.042969 15.027344 L 3.15625 15.152344 L 3.519531 15.152344 C 4.238281 15.152344 4.828125 14.886719 8.1875 13.039062 C 9.386719 12.378906 10.371094 11.839844 10.378906 11.839844 C 10.386719 11.839844 10.355469 11.929688 10.304688 12.035156 C 9.832031 13.09375 9.257812 14.820312 8.96875 16.078125 C 7.914062 20.652344 8.617188 24.53125 11.070312 27.660156 C 11.351562 28.015625 11.363281 27.914062 10.972656 28.382812 C 8.925781 30.84375 7.945312 33.28125 8.238281 35.1875 C 8.289062 35.527344 8.28125 35.523438 8.917969 35.523438 C 10.941406 35.523438 13.074219 34.207031 15.136719 31.6875 C 15.359375 31.417969 15.328125 31.425781 15.5625 31.574219 C 16.292969 32.042969 18.023438 32.964844 18.175781 32.964844 C 18.335938 32.964844 19.941406 32.210938 20.828125 31.71875 C 20.996094 31.625 21.136719 31.554688 21.136719 31.558594 C 21.203125 31.664062 21.898438 32.414062 22.222656 32.730469 C 23.835938 34.300781 25.5625 35.132812 27.582031 35.300781 C 27.90625 35.328125 27.9375 35.308594 28.007812 34.984375 C 28.382812 33.242188 27.625 30.925781 25.863281 28.425781 L 25.542969 27.96875 L 25.699219 27.785156 C 28.945312 23.960938 29.132812 18.699219 26.257812 11.96875 L 26.207031 11.84375 L 27.945312 12.703125 C 31.53125 14.476562 32.316406 14.800781 33.03125 14.800781 C 33.976562 14.800781 33.78125 13.9375 32.472656 12.292969 C 28.519531 7.355469 25.394531 5.925781 21.921875 7.472656 L 21.558594 7.636719 L 21.578125 7.542969 C 21.699219 6.992188 21.761719 5.742188 21.699219 5.164062 C 21.496094 3.296875 20.664062 1.964844 19.003906 0.855469 C 18.480469 0.503906 18.457031 0.5 18.214844 0.632812\"/>\n",
              "</g>\n",
              "      </svg>\n",
              "    "
            ],
            "text/plain": [
              "<IPython.core.display.HTML object>"
            ]
          },
          "metadata": {}
        }
      ]
    },
    {
      "cell_type": "code",
      "metadata": {
        "colab": {
          "base_uri": "https://localhost:8080/",
          "height": 520
        },
        "id": "4agScdzAJcSN",
        "outputId": "a6e645b9-bbf4-4405-8faa-a6ec7db7dd1c"
      },
      "source": [
        "initializeTurtle()\n",
        "left(30)\n",
        "for i in range(5):\n",
        "  color(\"red\")\n",
        "  forward(50)\n",
        "  color(\"yellow\")\n",
        "  forward(50)\n",
        "  right(72)"
      ],
      "execution_count": 120,
      "outputs": [
        {
          "output_type": "display_data",
          "data": {
            "text/html": [
              "\n",
              "      <svg width=\"800\" height=\"500\">\n",
              "        <rect width=\"100%\" height=\"100%\" fill=\"black\"/>\n",
              "        <line x1=\"400\" y1=\"250\" x2=\"375.0\" y2=\"206.699\" stroke-linecap=\"round\" style=\"stroke:red;stroke-width:4\"/><line x1=\"375.0\" y1=\"206.699\" x2=\"350.0\" y2=\"163.398\" stroke-linecap=\"round\" style=\"stroke:yellow;stroke-width:4\"/><line x1=\"350.0\" y1=\"163.398\" x2=\"383.457\" y2=\"126.241\" stroke-linecap=\"round\" style=\"stroke:red;stroke-width:4\"/><line x1=\"383.457\" y1=\"126.241\" x2=\"416.914\" y2=\"89.084\" stroke-linecap=\"round\" style=\"stroke:yellow;stroke-width:4\"/><line x1=\"416.914\" y1=\"89.084\" x2=\"462.591\" y2=\"109.421\" stroke-linecap=\"round\" style=\"stroke:red;stroke-width:4\"/><line x1=\"462.591\" y1=\"109.421\" x2=\"508.268\" y2=\"129.758\" stroke-linecap=\"round\" style=\"stroke:yellow;stroke-width:4\"/><line x1=\"508.268\" y1=\"129.758\" x2=\"503.042\" y2=\"179.484\" stroke-linecap=\"round\" style=\"stroke:red;stroke-width:4\"/><line x1=\"503.042\" y1=\"179.484\" x2=\"497.816\" y2=\"229.21\" stroke-linecap=\"round\" style=\"stroke:yellow;stroke-width:4\"/><line x1=\"497.816\" y1=\"229.21\" x2=\"448.909\" y2=\"239.606\" stroke-linecap=\"round\" style=\"stroke:red;stroke-width:4\"/><line x1=\"448.909\" y1=\"239.606\" x2=\"400.002\" y2=\"250.002\" stroke-linecap=\"round\" style=\"stroke:yellow;stroke-width:4\"/><line x1=\"400.002\" y1=\"250.002\" x2=\"491.357\" y2=\"290.676\" stroke-linecap=\"round\" style=\"stroke:white;stroke-width:4\"/><line x1=\"491.357\" y1=\"290.676\" x2=\"582.712\" y2=\"331.35\" stroke-linecap=\"round\" style=\"stroke:white;stroke-width:4\"/><line x1=\"582.712\" y1=\"331.35\" x2=\"674.067\" y2=\"372.024\" stroke-linecap=\"round\" style=\"stroke:white;stroke-width:4\"/><line x1=\"674.067\" y1=\"372.024\" x2=\"765.422\" y2=\"412.698\" stroke-linecap=\"round\" style=\"stroke:white;stroke-width:4\"/><line x1=\"765.422\" y1=\"412.698\" x2=\"856.777\" y2=\"453.372\" stroke-linecap=\"round\" style=\"stroke:white;stroke-width:4\"/>\n",
              "        <g visibility=visible transform=\"rotate(114,856.777,453.372) translate(838.777, 435.372)\">\n",
              "<path style=\" stroke:none;fill-rule:evenodd;fill:white;fill-opacity:1;\" d=\"M 18.214844 0.632812 C 16.109375 1.800781 15.011719 4.074219 15.074219 7.132812 L 15.085938 7.652344 L 14.785156 7.496094 C 13.476562 6.824219 11.957031 6.671875 10.40625 7.066406 C 8.46875 7.550781 6.515625 9.15625 4.394531 11.992188 C 3.0625 13.777344 2.679688 14.636719 3.042969 15.027344 L 3.15625 15.152344 L 3.519531 15.152344 C 4.238281 15.152344 4.828125 14.886719 8.1875 13.039062 C 9.386719 12.378906 10.371094 11.839844 10.378906 11.839844 C 10.386719 11.839844 10.355469 11.929688 10.304688 12.035156 C 9.832031 13.09375 9.257812 14.820312 8.96875 16.078125 C 7.914062 20.652344 8.617188 24.53125 11.070312 27.660156 C 11.351562 28.015625 11.363281 27.914062 10.972656 28.382812 C 8.925781 30.84375 7.945312 33.28125 8.238281 35.1875 C 8.289062 35.527344 8.28125 35.523438 8.917969 35.523438 C 10.941406 35.523438 13.074219 34.207031 15.136719 31.6875 C 15.359375 31.417969 15.328125 31.425781 15.5625 31.574219 C 16.292969 32.042969 18.023438 32.964844 18.175781 32.964844 C 18.335938 32.964844 19.941406 32.210938 20.828125 31.71875 C 20.996094 31.625 21.136719 31.554688 21.136719 31.558594 C 21.203125 31.664062 21.898438 32.414062 22.222656 32.730469 C 23.835938 34.300781 25.5625 35.132812 27.582031 35.300781 C 27.90625 35.328125 27.9375 35.308594 28.007812 34.984375 C 28.382812 33.242188 27.625 30.925781 25.863281 28.425781 L 25.542969 27.96875 L 25.699219 27.785156 C 28.945312 23.960938 29.132812 18.699219 26.257812 11.96875 L 26.207031 11.84375 L 27.945312 12.703125 C 31.53125 14.476562 32.316406 14.800781 33.03125 14.800781 C 33.976562 14.800781 33.78125 13.9375 32.472656 12.292969 C 28.519531 7.355469 25.394531 5.925781 21.921875 7.472656 L 21.558594 7.636719 L 21.578125 7.542969 C 21.699219 6.992188 21.761719 5.742188 21.699219 5.164062 C 21.496094 3.296875 20.664062 1.964844 19.003906 0.855469 C 18.480469 0.503906 18.457031 0.5 18.214844 0.632812\"/>\n",
              "</g>\n",
              "      </svg>\n",
              "    "
            ],
            "text/plain": [
              "<IPython.core.display.HTML object>"
            ]
          },
          "metadata": {}
        }
      ]
    },
    {
      "cell_type": "markdown",
      "metadata": {
        "id": "7Amw455INsQA"
      },
      "source": [
        "# 수업4\n"
      ]
    }
  ]
}