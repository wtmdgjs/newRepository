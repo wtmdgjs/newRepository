{
  "nbformat": 4,
  "nbformat_minor": 0,
  "metadata": {
    "colab": {
      "name": "Untitled0.ipynb",
      "provenance": [],
      "toc_visible": true,
      "authorship_tag": "ABX9TyOv0/FYtG2X6qofLuxzBMxc",
      "include_colab_link": true
    },
    "kernelspec": {
      "name": "python3",
      "display_name": "Python 3"
    },
    "language_info": {
      "name": "python"
    }
  },
  "cells": [
    {
      "cell_type": "markdown",
      "metadata": {
        "id": "view-in-github",
        "colab_type": "text"
      },
      "source": [
        "<a href=\"https://colab.research.google.com/github/wtmdgjs/newRepository/blob/main/Untitled0.ipynb\" target=\"_parent\"><img src=\"https://colab.research.google.com/assets/colab-badge.svg\" alt=\"Open In Colab\"/></a>"
      ]
    },
    {
      "cell_type": "code",
      "metadata": {
        "id": "My3DNIad1svY"
      },
      "source": [
        "import numpy as np\n",
        "import matplotlib.pyplot as plt\n",
        "import tensorflow as tf\n",
        "from tensorflow import keras\n",
        "from tensorflow.keras import layers\n",
        "from tensorflow.keras.utils import plot_model"
      ],
      "execution_count": 30,
      "outputs": []
    },
    {
      "cell_type": "code",
      "metadata": {
        "colab": {
          "base_uri": "https://localhost:8080/"
        },
        "id": "tFF3ZejnDMUJ",
        "outputId": "af0c459f-30e3-4ed5-a4e8-db646172ad55"
      },
      "source": [
        "(trainX, trainY), (testX, testY) = keras.datasets.mnist.load_data()\n",
        "print(trainX.shape, trainY.shape, testX.shape, testY.shape)"
      ],
      "execution_count": 31,
      "outputs": [
        {
          "output_type": "stream",
          "name": "stdout",
          "text": [
            "(60000, 28, 28) (60000,) (10000, 28, 28) (10000,)\n"
          ]
        }
      ]
    },
    {
      "cell_type": "code",
      "metadata": {
        "colab": {
          "base_uri": "https://localhost:8080/"
        },
        "id": "zFCveXfCD-9l",
        "outputId": "f0fbeb78-3a4d-42ad-f850-477552d1d2d3"
      },
      "source": [
        "trainX.shape"
      ],
      "execution_count": 32,
      "outputs": [
        {
          "output_type": "execute_result",
          "data": {
            "text/plain": [
              "(60000, 28, 28)"
            ]
          },
          "metadata": {},
          "execution_count": 32
        }
      ]
    },
    {
      "cell_type": "code",
      "metadata": {
        "colab": {
          "base_uri": "https://localhost:8080/"
        },
        "id": "AVtjDfiWEDDp",
        "outputId": "b07511f5-c5a1-4c9f-b138-819894806d7a"
      },
      "source": [
        "#Label 확인\n",
        "np.unique(trainY)"
      ],
      "execution_count": 33,
      "outputs": [
        {
          "output_type": "execute_result",
          "data": {
            "text/plain": [
              "array([0, 1, 2, 3, 4, 5, 6, 7, 8, 9], dtype=uint8)"
            ]
          },
          "metadata": {},
          "execution_count": 33
        }
      ]
    },
    {
      "cell_type": "code",
      "metadata": {
        "colab": {
          "base_uri": "https://localhost:8080/",
          "height": 127
        },
        "id": "Ke9p_PXMFSbF",
        "outputId": "d3968f7b-c9ab-42e4-c5aa-283c5cebb290"
      },
      "source": [
        "plt.subplot(1,5,1)\n",
        "plt.imshow(trainX[0])\n",
        "plt.subplot(1,5,2)\n",
        "plt.imshow(trainX[1])\n",
        "plt.subplot(1,5,3)\n",
        "plt.imshow(trainX[2])\n",
        "plt.subplot(1,5,4)\n",
        "plt.imshow(trainX[3])\n",
        "plt.subplot(1,5,5)\n",
        "plt.imshow(trainX[4])"
      ],
      "execution_count": 34,
      "outputs": [
        {
          "output_type": "execute_result",
          "data": {
            "text/plain": [
              "<matplotlib.image.AxesImage at 0x7f9597fe6190>"
            ]
          },
          "metadata": {},
          "execution_count": 34
        },
        {
          "output_type": "display_data",
          "data": {
            "image/png": "[encoded data removed]",
            "text/plain": [
              "<Figure size 432x288 with 5 Axes>"
            ]
          },
          "metadata": {
            "needs_background": "light"
          }
        }
      ]
    },
    {
      "cell_type": "code",
      "metadata": {
        "id": "qjVTQOG1F0xU"
      },
      "source": [
        "# 1차원의 펼쳐진 모양으로 변환\n",
        "trainX = trainX.reshape((60000, 28*28))\n",
        "testX = testX.reshape((10000, 28*28))\n",
        "\n",
        "# 정규화\n",
        "trainX = trainX / 255\n",
        "testX = testX / 255"
      ],
      "execution_count": 35,
      "outputs": []
    },
    {
      "cell_type": "code",
      "metadata": {
        "id": "PNCxPAi0GZBA"
      },
      "source": [
        "model = keras.Sequential()\n",
        "# 입력 노드\n",
        "model.add(layers.InputLayer(input_shape=(28*28)))\n",
        "# 128개의 노드\n",
        "model.add(layers.Dense(128, activation='relu'))\n",
        "# 10개 중 하나에 속할 확률 알려준다, 반환된 값의 전체 합은 항상 1.\n",
        "model.add(layers.Dense(10, activation='softmax'))"
      ],
      "execution_count": 36,
      "outputs": []
    },
    {
      "cell_type": "code",
      "metadata": {
        "colab": {
          "base_uri": "https://localhost:8080/"
        },
        "id": "saXwhQ0dIZP7",
        "outputId": "2329b7b8-b095-4c11-ada4-168ec03e7748"
      },
      "source": [
        "model.summary()"
      ],
      "execution_count": 37,
      "outputs": [
        {
          "output_type": "stream",
          "name": "stdout",
          "text": [
            "Model: \"sequential_1\"\n",
            "_________________________________________________________________\n",
            " Layer (type)                Output Shape              Param #   \n",
            "=================================================================\n",
            " dense_2 (Dense)             (None, 128)               100480    \n",
            "                                                                 \n",
            " dense_3 (Dense)             (None, 10)                1290      \n",
            "                                                                 \n",
            "=================================================================\n",
            "Total params: 101,770\n",
            "Trainable params: 101,770\n",
            "Non-trainable params: 0\n",
            "_________________________________________________________________\n"
          ]
        }
      ]
    },
    {
      "cell_type": "code",
      "metadata": {
        "colab": {
          "base_uri": "https://localhost:8080/",
          "height": 312
        },
        "id": "Y99MSBc_HSjU",
        "outputId": "1b8cc059-a4d9-47a3-c9bf-582c80689dd4"
      },
      "source": [
        "plot_model(model, show_shapes=True)"
      ],
      "execution_count": 38,
      "outputs": [
        {
          "output_type": "execute_result",
          "data": {
            "image/png": "[encoded data removed]",
            "text/plain": [
              "<IPython.core.display.Image object>"
            ]
          },
          "metadata": {},
          "execution_count": 38
        }
      ]
    },
    {
      "cell_type": "code",
      "metadata": {
        "id": "kAwRic4xIe02"
      },
      "source": [
        "from tensorflow.keras.optimizers import Adam\n",
        "model.compile(optimizer=Adam(learning_rate=0.001), loss=\"sparse_categorical_crossentropy\", metrics=[\"accuracy\"])"
      ],
      "execution_count": 39,
      "outputs": []
    },
    {
      "cell_type": "code",
      "metadata": {
        "colab": {
          "base_uri": "https://localhost:8080/"
        },
        "id": "TTR1ar7jJpVe",
        "outputId": "c56df38f-29fd-4125-f2d1-4a1ba8a59d03"
      },
      "source": [
        "hist1 = model.fit(trainX, trainY, epochs=5)"
      ],
      "execution_count": 40,
      "outputs": [
        {
          "output_type": "stream",
          "name": "stdout",
          "text": [
            "Epoch 1/5\n",
            "1875/1875 [==============================] - 5s 2ms/step - loss: 0.2591 - accuracy: 0.9257\n",
            "Epoch 2/5\n",
            "1875/1875 [==============================] - 4s 2ms/step - loss: 0.1122 - accuracy: 0.9664\n",
            "Epoch 3/5\n",
            "1875/1875 [==============================] - 4s 2ms/step - loss: 0.0772 - accuracy: 0.9764\n",
            "Epoch 4/5\n",
            "1875/1875 [==============================] - 4s 2ms/step - loss: 0.0580 - accuracy: 0.9818\n",
            "Epoch 5/5\n",
            "1875/1875 [==============================] - 4s 2ms/step - loss: 0.0449 - accuracy: 0.9870\n"
          ]
        }
      ]
    },
    {
      "cell_type": "code",
      "metadata": {
        "colab": {
          "base_uri": "https://localhost:8080/"
        },
        "id": "pnLJh6YRLnex",
        "outputId": "010da484-bd1e-4189-e3cd-199425aaa4e2"
      },
      "source": [
        "model.evaluate(testX, testY)"
      ],
      "execution_count": 41,
      "outputs": [
        {
          "output_type": "stream",
          "name": "stdout",
          "text": [
            "313/313 [==============================] - 1s 2ms/step - loss: 0.0797 - accuracy: 0.9748\n"
          ]
        },
        {
          "output_type": "execute_result",
          "data": {
            "text/plain": [
              "[0.07971405982971191, 0.9747999906539917]"
            ]
          },
          "metadata": {},
          "execution_count": 41
        }
      ]
    },
    {
      "cell_type": "code",
      "metadata": {
        "colab": {
          "base_uri": "https://localhost:8080/"
        },
        "id": "uwxTCz76NRYT",
        "outputId": "04564db4-3314-4e9f-d613-fe5ab6031ce3"
      },
      "source": [
        "print(hist1.history['loss'])\n",
        "print(hist1.history['accuracy'])"
      ],
      "execution_count": 42,
      "outputs": [
        {
          "output_type": "stream",
          "name": "stdout",
          "text": [
            "[0.2591263949871063, 0.11216507852077484, 0.07721240073442459, 0.05795055627822876, 0.04488218575716019]\n",
            "[0.9257000088691711, 0.9664333462715149, 0.9764166474342346, 0.9817500114440918, 0.9869666695594788]\n"
          ]
        }
      ]
    },
    {
      "cell_type": "code",
      "metadata": {
        "colab": {
          "base_uri": "https://localhost:8080/"
        },
        "id": "Mq8ZMzSdNdHi",
        "outputId": "6c386b5c-1c32-488e-d992-770d40533cb7"
      },
      "source": [
        "preds = model.predict(testX)\n",
        "print(preds[0])\n",
        "print(np.argmax(preds[0]))"
      ],
      "execution_count": 46,
      "outputs": [
        {
          "output_type": "stream",
          "name": "stdout",
          "text": [
            "[8.2505551e-07 3.5560637e-09 2.3980186e-07 3.2685243e-04 6.5970983e-12\n",
            " 1.7412962e-07 1.8644242e-12 9.9966931e-01 1.8422703e-07 2.4911456e-06]\n",
            "7\n"
          ]
        }
      ]
    },
    {
      "cell_type": "code",
      "metadata": {
        "colab": {
          "base_uri": "https://localhost:8080/",
          "height": 283
        },
        "id": "SJWYA1p6QWRZ",
        "outputId": "6159e9ce-d13b-4cc0-a96e-fa9f69fb17ae"
      },
      "source": [
        "print(testY[0])\n",
        "plt.imshow(testX[0].reshape(28, 28))\n",
        "plt.show()"
      ],
      "execution_count": 43,
      "outputs": [
        {
          "output_type": "stream",
          "name": "stdout",
          "text": [
            "7\n"
          ]
        },
        {
          "output_type": "display_data",
          "data": {
            "image/png": "[encoded data removed]",
            "text/plain": [
              "<Figure size 432x288 with 1 Axes>"
            ]
          },
          "metadata": {
            "needs_background": "light"
          }
        }
      ]
    },
    {
      "cell_type": "code",
      "metadata": {
        "colab": {
          "base_uri": "https://localhost:8080/",
          "height": 287
        },
        "id": "taJRcidRQyXg",
        "outputId": "d69db4eb-cd92-4539-8f5a-afdee232185e"
      },
      "source": [
        "plt.figure()\n",
        "plt.plot(hist1.history['loss'])\n",
        "plt.plot(hist1.history['accuracy'])\n",
        "plt.xlim([0,4])\n",
        "plt.ylim([0,3])"
      ],
      "execution_count": 48,
      "outputs": [
        {
          "output_type": "execute_result",
          "data": {
            "text/plain": [
              "(0.0, 3.0)"
            ]
          },
          "metadata": {},
          "execution_count": 48
        },
        {
          "output_type": "display_data",
          "data": {
            "image/png": "[encoded data removed]",
            "text/plain": [
              "<Figure size 432x288 with 1 Axes>"
            ]
          },
          "metadata": {
            "needs_background": "light"
          }
        }
      ]
    }
  ]
}